{
 "cells": [
  {
   "cell_type": "code",
   "execution_count": 2,
   "metadata": {},
   "outputs": [],
   "source": [
    "# import system packages\n",
    "import os\n",
    "from datetime import datetime\n",
    "import sys\n",
    "import argparse\n",
    "import traceback\n",
    "import pickle\n",
    "import yaml\n",
    "\n",
    "# import numpy\n",
    "import numpy as np\n",
    "import healpy as hp\n",
    "%matplotlib inline\n",
    "import pylab as plt\n",
    "\n",
    "# the MPI comunicator class, customized for pycal data storage\n",
    "from pycal.mpi import get_world, Comm\n",
    "\n",
    "# the Data class \n",
    "from pycal.dist import distribute_uniform, Data\n",
    "\n",
    "# some pycal utils to share informations with the environment\n",
    "from pycal.utils import Logger, Environment, memreport\n",
    "\n",
    "# some timers\n",
    "from pycal.timing import function_timer, GlobalTimers, Timer, gather_timers\n",
    "from pycal.timing import dump as dump_timing\n",
    "\n",
    "# the simulate the pointing, the atmosphere and put all the information in the TODGround class\n",
    "from pycal.todmap import TODGround, OpSimAtmosphere, OpPointingHpix\n",
    "from pycal.weather import Weather\n",
    "\n",
    "# Some wrapper to libaatm, they solve the radiative transfer equation in local thermodynamic equilibrium\n",
    "from pycal.todmap.atm import atm_absorption_coefficient, atm_absorption_coefficient_vec\n",
    "\n",
    "# helper functions\n",
    "from pycal.tests._helpers import boresight_focalplane\n",
    "import pycal.qarray as qa\n",
    "\n",
    "# focal plane and telescope calsses\n",
    "from pycal.todmap import Focalplane\n",
    "from pycal.todmap import Telescope"
   ]
  },
  {
   "cell_type": "code",
   "execution_count": 3,
   "metadata": {},
   "outputs": [],
   "source": [
    "# we start to load a fake focal plane. In this way it is possible to see the structure of the Focalplane class\n",
    "\n",
    "def load_focalplane(args, comm):\n",
    "    focalplane = None\n",
    "\n",
    "    # Load focalplane information\n",
    "\n",
    "    if comm.comm_world is None or comm.comm_world.rank == 0:\n",
    "        if args.focalplane is None:\n",
    "            detector_data = {}\n",
    "            with open(r'/opt/scratch/pycal_simulations/strip_focal_plane.yaml') as file:\n",
    "                focalplane=yaml.full_load(file)\n",
    "\n",
    "            detecotrs=focalplane['horns'].keys()\n",
    "            for i in detecotrs:\n",
    "                directions=focalplane['horns'][i]['orientation']\n",
    "                l=np.arctan(directions[0]/directions[2])\n",
    "                u=np.arctan(directions[1]/directions[2])\n",
    "                zaxis = np.array([0, 0, 1], dtype=np.float64)\n",
    "                \n",
    "                angrot = qa.rotation(zaxis, 0 * np.pi / 180.0)\n",
    "                wx = np.rad2deg(l) * np.pi / 180.0\n",
    "                wy = np.rad2deg(u) * np.pi / 180.0\n",
    "                wz = np.sqrt(1.0 - (wx * wx + wy * wy))\n",
    "                wdir = np.array([wx, wy, wz])\n",
    "                strip_quat = qa.from_vectors(zaxis, wdir)\n",
    "                \n",
    "                strip = {}\n",
    "                strip[\"quat\"] = strip_quat\n",
    "                strip[\"fwhm\"] = 20.0\n",
    "                strip[\"fknee\"] = 0.0\n",
    "                strip[\"fmin\"] = 1e-9\n",
    "                strip[\"alpha\"] = 1.0\n",
    "                strip[\"NET\"] = 1.0\n",
    "                strip[\"color\"] = \"r\"\n",
    "            \n",
    "                detector_data[i] = strip\n",
    "            \n",
    "            focalplane = Focalplane(\n",
    "                detector_data=detector_data, sample_rate=args.sample_rate\n",
    "            )\n",
    "        else:\n",
    "            focalplane = Focalplane(\n",
    "                fname_pickle=args.focalplane, sample_rate=args.sample_rate\n",
    "            )\n",
    "    if comm.comm_world is not None:\n",
    "        focalplane = comm.comm_world.bcast(focalplane, root=0)\n",
    "\n",
    "    if args.debug:\n",
    "        if comm.comm_world is None or comm.comm_world.rank == 0:\n",
    "            outfile = \"{}/focalplane.png\".format(args.outdir)\n",
    "            focalplane._plot_fp(12, 12, outfile)\n",
    "\n",
    "    #schedule.telescope.focalplane = focalplane\n",
    "    #detweights = focalplane.detweights\n",
    "\n",
    "    return focalplane"
   ]
  },
  {
   "cell_type": "code",
   "execution_count": 4,
   "metadata": {},
   "outputs": [
    {
     "name": "stdout",
     "output_type": "stream",
     "text": [
      "<cal.Environment\n",
      "  Source code version = 0.0.0\n",
      "  Logging level = INFO\n",
      "  Handling enabled for 0 signals:\n",
      "  Max threads = 16\n",
      "  MPI build enabled\n",
      "  MPI runtime enabled\n",
      ">\n"
     ]
    }
   ],
   "source": [
    "# definition of the logger, the global timer and the environment\n",
    "log = Logger.get()\n",
    "gt = GlobalTimers.get()\n",
    "env = Environment.get()\n",
    "\n",
    "gt.start(\"Atmospheric simulation (globbal timer)\")\n",
    "timer0 = Timer()\n",
    "timer0.start()\n",
    "\n",
    "# Get the communicator\n",
    "mpiworld, procs, rank = get_world()\n",
    "if rank == 0:\n",
    "    print(env)\n",
    "if mpiworld is None:\n",
    "    log.info(\"Running serially with one process at {}\".format(str(datetime.now())))\n",
    "else:\n",
    "    if rank == 0:\n",
    "        log.info(\n",
    "            \"Running with {} processes at {}\".format(procs, str(datetime.now()))\n",
    "        )\n",
    "comm = Comm(world=mpiworld)"
   ]
  },
  {
   "cell_type": "code",
   "execution_count": 5,
   "metadata": {},
   "outputs": [],
   "source": [
    "# Arguments of the simulation\n",
    "class args:\n",
    "    sample_rate=20\n",
    "    focalplane=None\n",
    "    ces_name = \"Test1\"\n",
    "    scan=\"spin\"\n",
    "    subscan=\"spin_1day\"\n",
    "    ces_stop_time = 400\n",
    "    ces_start_time = 0\n",
    "    sample_rate = 20\n",
    "    site_name= \"Tenerife\"\n",
    "    site_lon = \"-16:31:00\"\n",
    "    site_lat = \"28:20:00\"\n",
    "    site_alt = 2390.0\n",
    "    coord = \"C\"\n",
    "    ces_azmin = 10\n",
    "    ces_azmax = 179\n",
    "    ces_el = 70\n",
    "    scanrate = 1.0\n",
    "    scan_accel = 3.0\n",
    "    CES_start = None\n",
    "    NSIDE=256\n",
    "    debug=True\n",
    "    outdir=\"out_directory\"\n",
    "args = args()"
   ]
  },
  {
   "cell_type": "code",
   "execution_count": 6,
   "metadata": {},
   "outputs": [],
   "source": [
    "fp = load_focalplane(args, comm)"
   ]
  },
  {
   "cell_type": "markdown",
   "metadata": {},
   "source": [
    "# STRIP focalplane from the instrumental db files"
   ]
  },
  {
   "cell_type": "code",
   "execution_count": 7,
   "metadata": {},
   "outputs": [],
   "source": [
    "%matplotlib inline"
   ]
  },
  {
   "cell_type": "code",
   "execution_count": 17,
   "metadata": {},
   "outputs": [
    {
     "data": {
      "image/png": "[encoded data removed]",
      "text/plain": [
       "<Figure size 792x720 with 1 Axes>"
      ]
     },
     "metadata": {
      "needs_background": "light"
     },
     "output_type": "display_data"
    }
   ],
   "source": [
    "with open(r'/opt/scratch/pycal_simulations/strip_focal_plane.yaml') as file:\n",
    "    focalplane=yaml.full_load(file)\n",
    "detecotrs=focalplane['horns'].keys()\n",
    "\n",
    "plt.figure(figsize=(11, 10))\n",
    "\n",
    "for i in detecotrs:\n",
    "    directions=focalplane['horns'][i]['orientation']\n",
    "    #print(i, directions)\n",
    "    l=np.arctan(directions[0]/directions[2])\n",
    "    u=np.arctan(directions[1]/directions[2])\n",
    "    if np.shape(i.split('W'))[0] == 1:\n",
    "        if i == \"I0\":\n",
    "            plt.scatter(np.rad2deg(l), np.rad2deg(u), s=100, marker=\"o\", color='r', label=\"Q-band\")\n",
    "        else:\n",
    "            plt.scatter(np.rad2deg(l), np.rad2deg(u), s=100, marker=\"o\", color='r')\n",
    "        plt.text(np.rad2deg(l+0.002), np.rad2deg(u-0.0012), i)\n",
    "    else:\n",
    "        if i == \"W1\":\n",
    "            plt.scatter(np.rad2deg(l), np.rad2deg(u), s=100, marker=\"o\", color='b', alpha=0.3, label=\"W-band\")\n",
    "        else:\n",
    "            plt.scatter(np.rad2deg(l), np.rad2deg(u), s=100, marker=\"o\", color='b', alpha=0.3)\n",
    "        plt.text(np.rad2deg(l+0.002), np.rad2deg(u-0.0012), i)\n",
    "plt.xlabel(\"$l$ [deg]\")\n",
    "plt.ylabel(\"$u$ [deg]\")\n",
    "plt.legend()\n",
    "plt.grid()\n"
   ]
  },
  {
   "cell_type": "code",
   "execution_count": 17,
   "metadata": {},
   "outputs": [],
   "source": [
    "ZAX = np.array([0,0,1])\n",
    "v02 = np.array([-0.0118612457584, 0.0842200444514, 0.996376582905])\n",
    "buf=np.zeros(4)"
   ]
  },
  {
   "cell_type": "code",
   "execution_count": 18,
   "metadata": {},
   "outputs": [],
   "source": [
    "quat = qa.from_vectors(ZAX, v02)"
   ]
  },
  {
   "cell_type": "code",
   "execution_count": null,
   "metadata": {},
   "outputs": [],
   "source": []
  },
  {
   "cell_type": "code",
   "execution_count": 19,
   "metadata": {},
   "outputs": [
    {
     "name": "stdout",
     "output_type": "stream",
     "text": [
      "-1.5419961465759136 2.6363310416552364\n"
     ]
    }
   ],
   "source": [
    "print(np.rad2deg(l), np.rad2deg(u))"
   ]
  },
  {
   "cell_type": "code",
   "execution_count": 20,
   "metadata": {},
   "outputs": [
    {
     "ename": "NameError",
     "evalue": "name 'quat2' is not defined",
     "output_type": "error",
     "traceback": [
      "\u001b[0;31m---------------------------------------------------------------------------\u001b[0m",
      "\u001b[0;31mNameError\u001b[0m                                 Traceback (most recent call last)",
      "\u001b[0;32m<ipython-input-20-ac610f9e5e88>\u001b[0m in \u001b[0;36m<module>\u001b[0;34m\u001b[0m\n\u001b[0;32m----> 1\u001b[0;31m \u001b[0mnp\u001b[0m\u001b[0;34m.\u001b[0m\u001b[0mrad2deg\u001b[0m\u001b[0;34m(\u001b[0m\u001b[0mqa\u001b[0m\u001b[0;34m.\u001b[0m\u001b[0mto_position\u001b[0m\u001b[0;34m(\u001b[0m\u001b[0mquat2\u001b[0m\u001b[0;34m)\u001b[0m\u001b[0;34m)\u001b[0m\u001b[0;34m\u001b[0m\u001b[0;34m\u001b[0m\u001b[0m\n\u001b[0m",
      "\u001b[0;31mNameError\u001b[0m: name 'quat2' is not defined"
     ]
    }
   ],
   "source": [
    "np.rad2deg(qa.to_position(quat2))"
   ]
  },
  {
   "cell_type": "code",
   "execution_count": 21,
   "metadata": {},
   "outputs": [
    {
     "name": "stdout",
     "output_type": "stream",
     "text": [
      "[-0.01745662  0.00872831  0.          0.99980952]\n"
     ]
    }
   ],
   "source": [
    "centers = list()\n",
    "zaxis = np.array([0, 0, 1], dtype=np.float64)\n",
    "angrot = qa.rotation(zaxis, 1 * np.pi / 180.0)\n",
    "wx = 1 * np.pi / 180.0\n",
    "wy = 2 * np.pi / 180.0\n",
    "wz = np.sqrt(1.0 - (wx * wx + wy * wy))\n",
    "wdir = np.array([wx, wy, wz])\n",
    "posrot = qa.from_vectors(zaxis, wdir)\n",
    "\n",
    "print(posrot)"
   ]
  },
  {
   "cell_type": "code",
   "execution_count": null,
   "metadata": {},
   "outputs": [],
   "source": []
  }
 ],
 "metadata": {
  "kernelspec": {
   "display_name": "Python 3",
   "language": "python",
   "name": "python3"
  },
  "language_info": {
   "codemirror_mode": {
    "name": "ipython",
    "version": 3
   },
   "file_extension": ".py",
   "mimetype": "text/x-python",
   "name": "python",
   "nbconvert_exporter": "python",
   "pygments_lexer": "ipython3",
   "version": "3.9.7"
  }
 },
 "nbformat": 4,
 "nbformat_minor": 4
}
